{
  "nbformat": 4,
  "nbformat_minor": 0,
  "metadata": {
    "colab": {
      "name": "Relatorio_Performance.ipynb",
      "provenance": [],
      "collapsed_sections": [],
      "include_colab_link": true
    },
    "kernelspec": {
      "display_name": "Python 3",
      "language": "python",
      "name": "python3"
    },
    "language_info": {
      "codemirror_mode": {
        "name": "ipython",
        "version": 3
      },
      "file_extension": ".py",
      "mimetype": "text/x-python",
      "name": "python",
      "nbconvert_exporter": "python",
      "pygments_lexer": "ipython3",
      "version": "3.7.3"
    }
  },
  "cells": [
    {
      "cell_type": "markdown",
      "metadata": {
        "id": "view-in-github",
        "colab_type": "text"
      },
      "source": [
        "<a href=\"https://colab.research.google.com/github/claudio-ds/RepositorioProfissional/blob/main/Relatorio_Performance.ipynb\" target=\"_parent\"><img src=\"https://colab.research.google.com/assets/colab-badge.svg\" alt=\"Open In Colab\"/></a>"
      ]
    },
    {
      "cell_type": "markdown",
      "metadata": {
        "id": "ECrhwqrqYMHs"
      },
      "source": [
        "# **Descrição**\n",
        "\n",
        "Avaliar a performance das operações em Day Trade de Dólar Futuro e responder os seguintes questionamentos:\n",
        "\n",
        "\n",
        "\n",
        "1.   Qual foi o Lado com maior número de operações?.\n",
        "2.   Qual foi o melhor horário para operar?.\n",
        "\n",
        "1.   Quanto tempo posicionado nas operações ganhadoras?.\n",
        "2.   Quanto tempo posicionado nas operações perdedoras?.\n",
        "\n",
        "\n"
      ]
    },
    {
      "cell_type": "markdown",
      "metadata": {
        "id": "qwt2H2_ZHPsx"
      },
      "source": [
        "**Importando as bibliotecas para análise.**"
      ]
    },
    {
      "cell_type": "code",
      "metadata": {
        "id": "YSm17Qu8isA-"
      },
      "source": [
        "import pandas as pd\n",
        "import matplotlib.pyplot as plt\n",
        "import statistics as sts\n",
        "import time\n",
        "\n",
        "import warnings\n",
        "warnings.filterwarnings('ignore')"
      ],
      "execution_count": 1,
      "outputs": []
    },
    {
      "cell_type": "markdown",
      "metadata": {
        "id": "uMGH-dpDHZo4"
      },
      "source": [
        "**Definição dos parâmetros do Plano de Trade.**"
      ]
    },
    {
      "cell_type": "code",
      "metadata": {
        "id": "5Li6MXgWjRZp"
      },
      "source": [
        "capital = 4000\n",
        "meta_diaria = 120\n",
        "meta_mensal = 960\n",
        "lockout_diario = 180\n",
        "lockout_semanal = 540\n",
        "lockout_mensal = 810\n",
        "lote = 2\n",
        "mgpo = 5\n",
        "mspo = 36"
      ],
      "execution_count": 2,
      "outputs": []
    },
    {
      "cell_type": "markdown",
      "metadata": {
        "id": "40TH26y8KMd4"
      },
      "source": [
        "**Executando carregamento do dataset para análise.**"
      ]
    },
    {
      "cell_type": "code",
      "metadata": {
        "colab": {
          "base_uri": "https://localhost:8080/",
          "height": 419
        },
        "id": "gryLYCh1GXiH",
        "outputId": "7e07b3ee-358c-445b-c89b-300c69a80328"
      },
      "source": [
        "base = pd.read_csv('/content/relatorioPerformanceMarco3.csv', sep=';')\n",
        "base"
      ],
      "execution_count": 3,
      "outputs": [
        {
          "output_type": "execute_result",
          "data": {
            "text/html": [
              "<div>\n",
              "<style scoped>\n",
              "    .dataframe tbody tr th:only-of-type {\n",
              "        vertical-align: middle;\n",
              "    }\n",
              "\n",
              "    .dataframe tbody tr th {\n",
              "        vertical-align: top;\n",
              "    }\n",
              "\n",
              "    .dataframe thead th {\n",
              "        text-align: right;\n",
              "    }\n",
              "</style>\n",
              "<table border=\"1\" class=\"dataframe\">\n",
              "  <thead>\n",
              "    <tr style=\"text-align: right;\">\n",
              "      <th></th>\n",
              "      <th>Ativo</th>\n",
              "      <th>Data</th>\n",
              "      <th>Horario</th>\n",
              "      <th>Tempo Operacao</th>\n",
              "      <th>Qtd Compra</th>\n",
              "      <th>Qtd Venda</th>\n",
              "      <th>Lado</th>\n",
              "      <th>Preco Compra</th>\n",
              "      <th>Preco Venda</th>\n",
              "      <th>Preco de Mercado</th>\n",
              "      <th>Resultado</th>\n",
              "      <th>Resultado(%)</th>\n",
              "      <th>Total</th>\n",
              "    </tr>\n",
              "  </thead>\n",
              "  <tbody>\n",
              "    <tr>\n",
              "      <th>0</th>\n",
              "      <td>WDOJ21</td>\n",
              "      <td>01/03/2021</td>\n",
              "      <td>10</td>\n",
              "      <td>36s</td>\n",
              "      <td>1</td>\n",
              "      <td>1</td>\n",
              "      <td>V</td>\n",
              "      <td>5601,50</td>\n",
              "      <td>5601,00</td>\n",
              "      <td>5.774,00</td>\n",
              "      <td>-5</td>\n",
              "      <td>-0,5</td>\n",
              "      <td>-5,00</td>\n",
              "    </tr>\n",
              "    <tr>\n",
              "      <th>1</th>\n",
              "      <td>WDOJ21</td>\n",
              "      <td>01/03/2021</td>\n",
              "      <td>11</td>\n",
              "      <td>4s</td>\n",
              "      <td>1</td>\n",
              "      <td>1</td>\n",
              "      <td>C</td>\n",
              "      <td>5581,00</td>\n",
              "      <td>5581,50</td>\n",
              "      <td>5.774,00</td>\n",
              "      <td>5</td>\n",
              "      <td>0,5</td>\n",
              "      <td>R$ -</td>\n",
              "    </tr>\n",
              "    <tr>\n",
              "      <th>2</th>\n",
              "      <td>WDOJ21</td>\n",
              "      <td>02/03/2021</td>\n",
              "      <td>9</td>\n",
              "      <td>5s</td>\n",
              "      <td>1</td>\n",
              "      <td>1</td>\n",
              "      <td>V</td>\n",
              "      <td>5677,00</td>\n",
              "      <td>5677,50</td>\n",
              "      <td>5.774,00</td>\n",
              "      <td>5</td>\n",
              "      <td>0,5</td>\n",
              "      <td>5,00</td>\n",
              "    </tr>\n",
              "    <tr>\n",
              "      <th>3</th>\n",
              "      <td>WDOJ21</td>\n",
              "      <td>02/03/2021</td>\n",
              "      <td>9</td>\n",
              "      <td>8s</td>\n",
              "      <td>1</td>\n",
              "      <td>1</td>\n",
              "      <td>V</td>\n",
              "      <td>5681,50</td>\n",
              "      <td>5682,00</td>\n",
              "      <td>5.774,00</td>\n",
              "      <td>5</td>\n",
              "      <td>0,5</td>\n",
              "      <td>10,00</td>\n",
              "    </tr>\n",
              "    <tr>\n",
              "      <th>4</th>\n",
              "      <td>WDOJ21</td>\n",
              "      <td>02/03/2021</td>\n",
              "      <td>12</td>\n",
              "      <td>4s</td>\n",
              "      <td>1</td>\n",
              "      <td>1</td>\n",
              "      <td>V</td>\n",
              "      <td>5719,50</td>\n",
              "      <td>5720,00</td>\n",
              "      <td>5.774,00</td>\n",
              "      <td>5</td>\n",
              "      <td>0,5</td>\n",
              "      <td>15,00</td>\n",
              "    </tr>\n",
              "    <tr>\n",
              "      <th>...</th>\n",
              "      <td>...</td>\n",
              "      <td>...</td>\n",
              "      <td>...</td>\n",
              "      <td>...</td>\n",
              "      <td>...</td>\n",
              "      <td>...</td>\n",
              "      <td>...</td>\n",
              "      <td>...</td>\n",
              "      <td>...</td>\n",
              "      <td>...</td>\n",
              "      <td>...</td>\n",
              "      <td>...</td>\n",
              "      <td>...</td>\n",
              "    </tr>\n",
              "    <tr>\n",
              "      <th>62</th>\n",
              "      <td>WDOJ21</td>\n",
              "      <td>29/03/2021</td>\n",
              "      <td>9</td>\n",
              "      <td>9s</td>\n",
              "      <td>1</td>\n",
              "      <td>1</td>\n",
              "      <td>C</td>\n",
              "      <td>5767,50</td>\n",
              "      <td>5766,50</td>\n",
              "      <td>5.774,00</td>\n",
              "      <td>-10</td>\n",
              "      <td>-1</td>\n",
              "      <td>-295,00</td>\n",
              "    </tr>\n",
              "    <tr>\n",
              "      <th>63</th>\n",
              "      <td>WDOJ21</td>\n",
              "      <td>29/03/2021</td>\n",
              "      <td>9</td>\n",
              "      <td>2s</td>\n",
              "      <td>1</td>\n",
              "      <td>1</td>\n",
              "      <td>V</td>\n",
              "      <td>5772,50</td>\n",
              "      <td>5774,00</td>\n",
              "      <td>5.774,00</td>\n",
              "      <td>15</td>\n",
              "      <td>1,5</td>\n",
              "      <td>-280,00</td>\n",
              "    </tr>\n",
              "    <tr>\n",
              "      <th>64</th>\n",
              "      <td>WDOJ21</td>\n",
              "      <td>29/03/2021</td>\n",
              "      <td>11</td>\n",
              "      <td>-</td>\n",
              "      <td>1</td>\n",
              "      <td>1</td>\n",
              "      <td>V</td>\n",
              "      <td>5799,00</td>\n",
              "      <td>5798,00</td>\n",
              "      <td>5.774,00</td>\n",
              "      <td>-10</td>\n",
              "      <td>-1</td>\n",
              "      <td>-290,00</td>\n",
              "    </tr>\n",
              "    <tr>\n",
              "      <th>65</th>\n",
              "      <td>WDOJ21</td>\n",
              "      <td>29/03/2021</td>\n",
              "      <td>15</td>\n",
              "      <td>1s</td>\n",
              "      <td>1</td>\n",
              "      <td>1</td>\n",
              "      <td>V</td>\n",
              "      <td>5779,00</td>\n",
              "      <td>5777,00</td>\n",
              "      <td>5.774,00</td>\n",
              "      <td>-20</td>\n",
              "      <td>-2</td>\n",
              "      <td>-310,00</td>\n",
              "    </tr>\n",
              "    <tr>\n",
              "      <th>66</th>\n",
              "      <td>WDOJ21</td>\n",
              "      <td>30/03/2021</td>\n",
              "      <td>9</td>\n",
              "      <td>8s</td>\n",
              "      <td>1</td>\n",
              "      <td>1</td>\n",
              "      <td>V</td>\n",
              "      <td>5776,50</td>\n",
              "      <td>5777,50</td>\n",
              "      <td>5.774,00</td>\n",
              "      <td>10</td>\n",
              "      <td>1</td>\n",
              "      <td>-300,00</td>\n",
              "    </tr>\n",
              "  </tbody>\n",
              "</table>\n",
              "<p>67 rows × 13 columns</p>\n",
              "</div>"
            ],
            "text/plain": [
              "     Ativo        Data  Horario  ...  Resultado   Resultado(%)    Total \n",
              "0   WDOJ21  01/03/2021       10  ...          -5          -0,5     -5,00\n",
              "1   WDOJ21  01/03/2021       11  ...           5           0,5   R$ -   \n",
              "2   WDOJ21  02/03/2021        9  ...           5           0,5      5,00\n",
              "3   WDOJ21  02/03/2021        9  ...           5           0,5     10,00\n",
              "4   WDOJ21  02/03/2021       12  ...           5           0,5     15,00\n",
              "..     ...         ...      ...  ...         ...           ...       ...\n",
              "62  WDOJ21  29/03/2021        9  ...         -10            -1   -295,00\n",
              "63  WDOJ21  29/03/2021        9  ...          15           1,5   -280,00\n",
              "64  WDOJ21  29/03/2021       11  ...         -10            -1   -290,00\n",
              "65  WDOJ21  29/03/2021       15  ...         -20            -2   -310,00\n",
              "66  WDOJ21  30/03/2021        9  ...          10             1   -300,00\n",
              "\n",
              "[67 rows x 13 columns]"
            ]
          },
          "metadata": {
            "tags": []
          },
          "execution_count": 3
        }
      ]
    },
    {
      "cell_type": "markdown",
      "metadata": {
        "id": "89Ron5M9RlkP"
      },
      "source": [
        "**Visualizando o tamanho do dataset.**"
      ]
    },
    {
      "cell_type": "code",
      "metadata": {
        "colab": {
          "base_uri": "https://localhost:8080/"
        },
        "id": "Fxx6g1vgRtfm",
        "outputId": "2e911cdf-fe8e-4b04-9264-ef5d45d6d036"
      },
      "source": [
        "base.shape"
      ],
      "execution_count": 4,
      "outputs": [
        {
          "output_type": "execute_result",
          "data": {
            "text/plain": [
              "(67, 13)"
            ]
          },
          "metadata": {
            "tags": []
          },
          "execution_count": 4
        }
      ]
    },
    {
      "cell_type": "markdown",
      "metadata": {
        "id": "JXjqzSI6R3ie"
      },
      "source": [
        "**Visualizando o tipo dos dados no datatset.**"
      ]
    },
    {
      "cell_type": "code",
      "metadata": {
        "colab": {
          "base_uri": "https://localhost:8080/"
        },
        "id": "BcfOgSnpSEjm",
        "outputId": "c95fe31e-50d8-48b3-8d48-ec3f1ab5de6f"
      },
      "source": [
        "base.dtypes"
      ],
      "execution_count": 5,
      "outputs": [
        {
          "output_type": "execute_result",
          "data": {
            "text/plain": [
              "Ativo               object\n",
              "Data                object\n",
              "Horario              int64\n",
              "Tempo Operacao      object\n",
              "Qtd Compra           int64\n",
              "Qtd Venda            int64\n",
              "Lado                object\n",
              " Preco Compra       object\n",
              " Preco Venda        object\n",
              "Preco de Mercado    object\n",
              " Resultado           int64\n",
              "Resultado(%)        object\n",
              " Total              object\n",
              "dtype: object"
            ]
          },
          "metadata": {
            "tags": []
          },
          "execution_count": 5
        }
      ]
    },
    {
      "cell_type": "markdown",
      "metadata": {
        "id": "9a3OzxOILa7X"
      },
      "source": [
        "**Verificando se há valores nulos no dataset.**"
      ]
    },
    {
      "cell_type": "code",
      "metadata": {
        "colab": {
          "base_uri": "https://localhost:8080/"
        },
        "id": "7e4Q1ixOy7yp",
        "outputId": "2bf69490-8945-44fc-f8fa-bd4e1b82b045"
      },
      "source": [
        "base.isnull().sum()"
      ],
      "execution_count": 6,
      "outputs": [
        {
          "output_type": "execute_result",
          "data": {
            "text/plain": [
              "Ativo               0\n",
              "Data                0\n",
              "Horario             0\n",
              "Tempo Operacao      0\n",
              "Qtd Compra          0\n",
              "Qtd Venda           0\n",
              "Lado                0\n",
              " Preco Compra       0\n",
              " Preco Venda        0\n",
              "Preco de Mercado    0\n",
              " Resultado          0\n",
              "Resultado(%)        0\n",
              " Total              0\n",
              "dtype: int64"
            ]
          },
          "metadata": {
            "tags": []
          },
          "execution_count": 6
        }
      ]
    },
    {
      "cell_type": "markdown",
      "metadata": {
        "id": "ACS4FhBHLCVP"
      },
      "source": [
        "**Renomeando as variáveis.**"
      ]
    },
    {
      "cell_type": "code",
      "metadata": {
        "id": "ttbS2FVXzz8Z"
      },
      "source": [
        "base.columns=['Ativo', 'Data', 'Horario', 'Tempo_Operacao','Qtd_Compra','Qtd_Venda','Lado','Preco_Compra','Preco_Venda','Preco_Mercado','Resultado','Resultado(%)','Total']"
      ],
      "execution_count": 7,
      "outputs": []
    },
    {
      "cell_type": "markdown",
      "metadata": {
        "id": "k71aDZrbLIwO"
      },
      "source": [
        "**Visualizando as primeiras linhas do dataset.**"
      ]
    },
    {
      "cell_type": "code",
      "metadata": {
        "colab": {
          "base_uri": "https://localhost:8080/",
          "height": 204
        },
        "id": "wvRLxU7pjam2",
        "outputId": "cd97f2b2-9878-4581-a6f1-2c6c72f8fd9f"
      },
      "source": [
        "base.head()"
      ],
      "execution_count": 8,
      "outputs": [
        {
          "output_type": "execute_result",
          "data": {
            "text/html": [
              "<div>\n",
              "<style scoped>\n",
              "    .dataframe tbody tr th:only-of-type {\n",
              "        vertical-align: middle;\n",
              "    }\n",
              "\n",
              "    .dataframe tbody tr th {\n",
              "        vertical-align: top;\n",
              "    }\n",
              "\n",
              "    .dataframe thead th {\n",
              "        text-align: right;\n",
              "    }\n",
              "</style>\n",
              "<table border=\"1\" class=\"dataframe\">\n",
              "  <thead>\n",
              "    <tr style=\"text-align: right;\">\n",
              "      <th></th>\n",
              "      <th>Ativo</th>\n",
              "      <th>Data</th>\n",
              "      <th>Horario</th>\n",
              "      <th>Tempo_Operacao</th>\n",
              "      <th>Qtd_Compra</th>\n",
              "      <th>Qtd_Venda</th>\n",
              "      <th>Lado</th>\n",
              "      <th>Preco_Compra</th>\n",
              "      <th>Preco_Venda</th>\n",
              "      <th>Preco_Mercado</th>\n",
              "      <th>Resultado</th>\n",
              "      <th>Resultado(%)</th>\n",
              "      <th>Total</th>\n",
              "    </tr>\n",
              "  </thead>\n",
              "  <tbody>\n",
              "    <tr>\n",
              "      <th>0</th>\n",
              "      <td>WDOJ21</td>\n",
              "      <td>01/03/2021</td>\n",
              "      <td>10</td>\n",
              "      <td>36s</td>\n",
              "      <td>1</td>\n",
              "      <td>1</td>\n",
              "      <td>V</td>\n",
              "      <td>5601,50</td>\n",
              "      <td>5601,00</td>\n",
              "      <td>5.774,00</td>\n",
              "      <td>-5</td>\n",
              "      <td>-0,5</td>\n",
              "      <td>-5,00</td>\n",
              "    </tr>\n",
              "    <tr>\n",
              "      <th>1</th>\n",
              "      <td>WDOJ21</td>\n",
              "      <td>01/03/2021</td>\n",
              "      <td>11</td>\n",
              "      <td>4s</td>\n",
              "      <td>1</td>\n",
              "      <td>1</td>\n",
              "      <td>C</td>\n",
              "      <td>5581,00</td>\n",
              "      <td>5581,50</td>\n",
              "      <td>5.774,00</td>\n",
              "      <td>5</td>\n",
              "      <td>0,5</td>\n",
              "      <td>R$ -</td>\n",
              "    </tr>\n",
              "    <tr>\n",
              "      <th>2</th>\n",
              "      <td>WDOJ21</td>\n",
              "      <td>02/03/2021</td>\n",
              "      <td>9</td>\n",
              "      <td>5s</td>\n",
              "      <td>1</td>\n",
              "      <td>1</td>\n",
              "      <td>V</td>\n",
              "      <td>5677,00</td>\n",
              "      <td>5677,50</td>\n",
              "      <td>5.774,00</td>\n",
              "      <td>5</td>\n",
              "      <td>0,5</td>\n",
              "      <td>5,00</td>\n",
              "    </tr>\n",
              "    <tr>\n",
              "      <th>3</th>\n",
              "      <td>WDOJ21</td>\n",
              "      <td>02/03/2021</td>\n",
              "      <td>9</td>\n",
              "      <td>8s</td>\n",
              "      <td>1</td>\n",
              "      <td>1</td>\n",
              "      <td>V</td>\n",
              "      <td>5681,50</td>\n",
              "      <td>5682,00</td>\n",
              "      <td>5.774,00</td>\n",
              "      <td>5</td>\n",
              "      <td>0,5</td>\n",
              "      <td>10,00</td>\n",
              "    </tr>\n",
              "    <tr>\n",
              "      <th>4</th>\n",
              "      <td>WDOJ21</td>\n",
              "      <td>02/03/2021</td>\n",
              "      <td>12</td>\n",
              "      <td>4s</td>\n",
              "      <td>1</td>\n",
              "      <td>1</td>\n",
              "      <td>V</td>\n",
              "      <td>5719,50</td>\n",
              "      <td>5720,00</td>\n",
              "      <td>5.774,00</td>\n",
              "      <td>5</td>\n",
              "      <td>0,5</td>\n",
              "      <td>15,00</td>\n",
              "    </tr>\n",
              "  </tbody>\n",
              "</table>\n",
              "</div>"
            ],
            "text/plain": [
              "    Ativo        Data  Horario  ... Resultado  Resultado(%)     Total\n",
              "0  WDOJ21  01/03/2021       10  ...        -5          -0,5     -5,00\n",
              "1  WDOJ21  01/03/2021       11  ...         5           0,5   R$ -   \n",
              "2  WDOJ21  02/03/2021        9  ...         5           0,5      5,00\n",
              "3  WDOJ21  02/03/2021        9  ...         5           0,5     10,00\n",
              "4  WDOJ21  02/03/2021       12  ...         5           0,5     15,00\n",
              "\n",
              "[5 rows x 13 columns]"
            ]
          },
          "metadata": {
            "tags": []
          },
          "execution_count": 8
        }
      ]
    },
    {
      "cell_type": "markdown",
      "metadata": {
        "id": "snUsArHyLpw_"
      },
      "source": [
        "**Executando agrupamento da coluna \"Lado\", que indica a quantidade de operações de Compra e de Venda.**"
      ]
    },
    {
      "cell_type": "code",
      "metadata": {
        "colab": {
          "base_uri": "https://localhost:8080/"
        },
        "id": "wZynG3VmogwU",
        "outputId": "df605092-720a-4720-b162-e8b0f24078db"
      },
      "source": [
        "lado_agrupado = base.groupby(base['Lado']).size()\n",
        "lado_agrupado"
      ],
      "execution_count": 9,
      "outputs": [
        {
          "output_type": "execute_result",
          "data": {
            "text/plain": [
              "Lado\n",
              "C    46\n",
              "V    21\n",
              "dtype: int64"
            ]
          },
          "metadata": {
            "tags": []
          },
          "execution_count": 9
        }
      ]
    },
    {
      "cell_type": "markdown",
      "metadata": {
        "id": "Tm4qmc7AMVIo"
      },
      "source": [
        "**Visualização do \"lado_agrupado\" através de um gráfico de barras.**"
      ]
    },
    {
      "cell_type": "code",
      "metadata": {
        "colab": {
          "base_uri": "https://localhost:8080/",
          "height": 293
        },
        "id": "3116H60Qqo2T",
        "outputId": "d3a0347d-2d5f-4bac-bfc0-6006449522e4"
      },
      "source": [
        "lado_agrupado.plot.bar(['Lado'], color='blue')"
      ],
      "execution_count": 10,
      "outputs": [
        {
          "output_type": "execute_result",
          "data": {
            "text/plain": [
              "<matplotlib.axes._subplots.AxesSubplot at 0x7fac203c9890>"
            ]
          },
          "metadata": {
            "tags": []
          },
          "execution_count": 10
        },
        {
          "output_type": "display_data",
          "data": {
            "image/png": "[encoded data removed]",
            "text/plain": [
              "<Figure size 432x288 with 1 Axes>"
            ]
          },
          "metadata": {
            "tags": [],
            "needs_background": "light"
          }
        }
      ]
    },
    {
      "cell_type": "markdown",
      "metadata": {
        "id": "hw04uFCgMzBP"
      },
      "source": [
        "**Executando agrupamento da coluna \"Data\", que indica a quantidade de operações por dia.**"
      ]
    },
    {
      "cell_type": "code",
      "metadata": {
        "colab": {
          "base_uri": "https://localhost:8080/"
        },
        "id": "ogt5yBz3yN8X",
        "outputId": "9d430d4f-3f80-43f6-bb18-30c6dcd7b32c"
      },
      "source": [
        "data_agrupada = base.groupby(['Data']).size()\n",
        "data_agrupada"
      ],
      "execution_count": 11,
      "outputs": [
        {
          "output_type": "execute_result",
          "data": {
            "text/plain": [
              "Data\n",
              "01/03/2021    2\n",
              "02/03/2021    4\n",
              "03/03/2021    7\n",
              "04/03/2021    6\n",
              "05/03/2021    1\n",
              "08/03/2021    1\n",
              "09/03/2021    8\n",
              "10/03/2021    2\n",
              "11/03/2021    2\n",
              "12/03/2021    1\n",
              "15/03/2021    2\n",
              "16/03/2021    3\n",
              "17/03/2021    1\n",
              "18/03/2021    1\n",
              "19/03/2021    2\n",
              "22/03/2021    7\n",
              "23/03/2021    2\n",
              "24/03/2021    2\n",
              "25/03/2021    3\n",
              "26/03/2021    3\n",
              "29/03/2021    6\n",
              "30/03/2021    1\n",
              "dtype: int64"
            ]
          },
          "metadata": {
            "tags": []
          },
          "execution_count": 11
        }
      ]
    },
    {
      "cell_type": "markdown",
      "metadata": {
        "id": "0tr_8awMNIkP"
      },
      "source": [
        "**Cálculo do total de operações dentro do mês.**"
      ]
    },
    {
      "cell_type": "code",
      "metadata": {
        "colab": {
          "base_uri": "https://localhost:8080/"
        },
        "id": "tNHso6D3qF9N",
        "outputId": "ca4ff388-32f3-4c4c-863d-adaa89ca815b"
      },
      "source": [
        "print(f\"Total de operações no mês: {data_agrupada.sum()}\")"
      ],
      "execution_count": 12,
      "outputs": [
        {
          "output_type": "stream",
          "text": [
            "Total de operações no mês: 67\n"
          ],
          "name": "stdout"
        }
      ]
    },
    {
      "cell_type": "markdown",
      "metadata": {
        "id": "V5PmFORqNmqg"
      },
      "source": [
        "**Visualização da \"data_agrupada\" através de um gráfico de barras.**"
      ]
    },
    {
      "cell_type": "code",
      "metadata": {
        "colab": {
          "base_uri": "https://localhost:8080/",
          "height": 344
        },
        "id": "EkKJYNOaqTnT",
        "outputId": "ad3c727d-e598-4e51-ac78-cae71ae84b33"
      },
      "source": [
        "data_agrupada.plot.bar(['Data'], color='gray')"
      ],
      "execution_count": 13,
      "outputs": [
        {
          "output_type": "execute_result",
          "data": {
            "text/plain": [
              "<matplotlib.axes._subplots.AxesSubplot at 0x7fac1a1c0b50>"
            ]
          },
          "metadata": {
            "tags": []
          },
          "execution_count": 13
        },
        {
          "output_type": "display_data",
          "data": {
            "image/png": "[encoded data removed]",
            "text/plain": [
              "<Figure size 432x288 with 1 Axes>"
            ]
          },
          "metadata": {
            "tags": [],
            "needs_background": "light"
          }
        }
      ]
    },
    {
      "cell_type": "markdown",
      "metadata": {
        "id": "24rRXjv7OKAQ"
      },
      "source": [
        "**Cálculo da média de operações por dia.**"
      ]
    },
    {
      "cell_type": "code",
      "metadata": {
        "colab": {
          "base_uri": "https://localhost:8080/"
        },
        "id": "mCQkiEZBqrrM",
        "outputId": "28e233c5-b138-4366-b4bc-27f764e36ce6"
      },
      "source": [
        "media = data_agrupada.mean()\n",
        "print(f\"Média total de operações por dia: {media:.2f}\")"
      ],
      "execution_count": 14,
      "outputs": [
        {
          "output_type": "stream",
          "text": [
            "Média total de operações por dia: 3.05\n"
          ],
          "name": "stdout"
        }
      ]
    },
    {
      "cell_type": "markdown",
      "metadata": {
        "id": "NNB4tZL6Ovw3"
      },
      "source": [
        "**Executando agrupamento da coluna \"Horario\", que indica a quantidade de operações por faixa horária.**"
      ]
    },
    {
      "cell_type": "code",
      "metadata": {
        "colab": {
          "base_uri": "https://localhost:8080/"
        },
        "id": "puO5o_z2rfYN",
        "outputId": "e19aceb9-c8ea-4ff3-b638-b8adbef49d01"
      },
      "source": [
        "horario_agrupado = base.groupby(['Horario']).size()\n",
        "horario_agrupado"
      ],
      "execution_count": 15,
      "outputs": [
        {
          "output_type": "execute_result",
          "data": {
            "text/plain": [
              "Horario\n",
              "9     21\n",
              "10    20\n",
              "11    11\n",
              "12    10\n",
              "13     1\n",
              "14     2\n",
              "15     2\n",
              "dtype: int64"
            ]
          },
          "metadata": {
            "tags": []
          },
          "execution_count": 15
        }
      ]
    },
    {
      "cell_type": "markdown",
      "metadata": {
        "id": "XAP-AqCIPdGk"
      },
      "source": [
        "**Visualização do \"horario_agrupado\" através de um gráfico de barras.**"
      ]
    },
    {
      "cell_type": "code",
      "metadata": {
        "colab": {
          "base_uri": "https://localhost:8080/",
          "height": 299
        },
        "id": "3JaHVyUdr441",
        "outputId": "a71c0bf3-0c23-4056-8e69-f765483cde3c"
      },
      "source": [
        "horario_agrupado.plot.bar(['Horario'], color='magenta')"
      ],
      "execution_count": 16,
      "outputs": [
        {
          "output_type": "execute_result",
          "data": {
            "text/plain": [
              "<matplotlib.axes._subplots.AxesSubplot at 0x7fac19c8d8d0>"
            ]
          },
          "metadata": {
            "tags": []
          },
          "execution_count": 16
        },
        {
          "output_type": "display_data",
          "data": {
            "image/png": "[encoded data removed]",
            "text/plain": [
              "<Figure size 432x288 with 1 Axes>"
            ]
          },
          "metadata": {
            "tags": [],
            "needs_background": "light"
          }
        }
      ]
    },
    {
      "cell_type": "markdown",
      "metadata": {
        "id": "EO6u4nQiUAsq"
      },
      "source": [
        "**Executando agrupamento da coluna \"tempo_operação\", que indica o tempo posicionado em cada operação.**"
      ]
    },
    {
      "cell_type": "code",
      "metadata": {
        "colab": {
          "base_uri": "https://localhost:8080/"
        },
        "id": "6v7cyHA9sGMM",
        "outputId": "0706ad64-26f0-42fa-9f3f-1a5293e38a72"
      },
      "source": [
        "tempo_agrupado = base.groupby(['Tempo_Operacao']).size()\n",
        "tempo_agrupado"
      ],
      "execution_count": 17,
      "outputs": [
        {
          "output_type": "execute_result",
          "data": {
            "text/plain": [
              "Tempo_Operacao\n",
              "-           2\n",
              "10s         3\n",
              "11min56s    1\n",
              "11s         4\n",
              "12s         1\n",
              "13s         2\n",
              "14s         1\n",
              "15s         2\n",
              "16s         1\n",
              "1min14s     1\n",
              "1min16s     1\n",
              "1min2s      1\n",
              "1min34s     1\n",
              "1min36s     1\n",
              "1min4s      1\n",
              "1min6s      1\n",
              "1s          2\n",
              "20s         1\n",
              "23s         3\n",
              "26s         1\n",
              "27s         2\n",
              "2min10s     1\n",
              "2min8s      1\n",
              "2s          3\n",
              "32s         1\n",
              "36s         1\n",
              "3min19s     2\n",
              "3s          3\n",
              "49s         1\n",
              "4min12s     1\n",
              "4s          7\n",
              "5s          2\n",
              "6s          3\n",
              "7s          1\n",
              "8s          3\n",
              "9min48s     1\n",
              "9s          3\n",
              "dtype: int64"
            ]
          },
          "metadata": {
            "tags": []
          },
          "execution_count": 17
        }
      ]
    },
    {
      "cell_type": "markdown",
      "metadata": {
        "id": "HNmp3UmMUklH"
      },
      "source": [
        "**Cálculo da média do tempo_operação.**"
      ]
    },
    {
      "cell_type": "code",
      "metadata": {
        "colab": {
          "base_uri": "https://localhost:8080/"
        },
        "id": "mf18YmOaQMS4",
        "outputId": "63348769-85b7-4cc8-86df-113863738b00"
      },
      "source": [
        "media_tempo_agrupado = tempo_agrupado.mean()\n",
        "media_tempo_agrupado"
      ],
      "execution_count": 18,
      "outputs": [
        {
          "output_type": "execute_result",
          "data": {
            "text/plain": [
              "1.8108108108108107"
            ]
          },
          "metadata": {
            "tags": []
          },
          "execution_count": 18
        }
      ]
    },
    {
      "cell_type": "markdown",
      "metadata": {
        "id": "6BPX5nVUU0J4"
      },
      "source": [
        "**Cálculo da média do tempo_operação convertido.**"
      ]
    },
    {
      "cell_type": "code",
      "metadata": {
        "colab": {
          "base_uri": "https://localhost:8080/",
          "height": 35
        },
        "id": "Lw9X0ukRSzuX",
        "outputId": "49d4c319-d51e-4a84-a892-2cfaa6932a71"
      },
      "source": [
        "media_tempo_agrupado_convertido = time.strftime(\"%H:%M:%S\", time.gmtime(.01810*3600))\n",
        "media_tempo_agrupado_convertido"
      ],
      "execution_count": 19,
      "outputs": [
        {
          "output_type": "execute_result",
          "data": {
            "application/vnd.google.colaboratory.intrinsic+json": {
              "type": "string"
            },
            "text/plain": [
              "'00:01:05'"
            ]
          },
          "metadata": {
            "tags": []
          },
          "execution_count": 19
        }
      ]
    },
    {
      "cell_type": "code",
      "metadata": {
        "colab": {
          "base_uri": "https://localhost:8080/",
          "height": 297
        },
        "id": "iD8yMZyftUIf",
        "outputId": "29f18910-b446-495a-9cc5-9ce028092701"
      },
      "source": [
        "tempo_agrupado.plot.line()"
      ],
      "execution_count": 20,
      "outputs": [
        {
          "output_type": "execute_result",
          "data": {
            "text/plain": [
              "<matplotlib.axes._subplots.AxesSubplot at 0x7fac19c160d0>"
            ]
          },
          "metadata": {
            "tags": []
          },
          "execution_count": 20
        },
        {
          "output_type": "display_data",
          "data": {
            "image/png": "[encoded data removed]",
            "text/plain": [
              "<Figure size 432x288 with 1 Axes>"
            ]
          },
          "metadata": {
            "tags": [],
            "needs_background": "light"
          }
        }
      ]
    },
    {
      "cell_type": "markdown",
      "metadata": {
        "id": "Ibo-QiYKBZh9"
      },
      "source": [
        "**Executando agrupamento da coluna \"resultado\", que indica os valores positivos e negativos.**"
      ]
    },
    {
      "cell_type": "code",
      "metadata": {
        "colab": {
          "base_uri": "https://localhost:8080/"
        },
        "id": "fMeIbHg-0j-j",
        "outputId": "5428c527-490c-4ed4-f276-8271792d5b66"
      },
      "source": [
        "res = base.groupby(base['Resultado']).size()\n",
        "res"
      ],
      "execution_count": 21,
      "outputs": [
        {
          "output_type": "execute_result",
          "data": {
            "text/plain": [
              "Resultado\n",
              "-195     1\n",
              "-135     1\n",
              "-125     1\n",
              "-90      1\n",
              "-50      1\n",
              "-30      1\n",
              "-20      4\n",
              "-15      2\n",
              "-10      4\n",
              "-5       3\n",
              " 0       2\n",
              " 5      21\n",
              " 10      7\n",
              " 15     14\n",
              " 20      1\n",
              " 25      1\n",
              " 30      2\n",
              "dtype: int64"
            ]
          },
          "metadata": {
            "tags": []
          },
          "execution_count": 21
        }
      ]
    },
    {
      "cell_type": "markdown",
      "metadata": {
        "id": "SLRIeY0iCWku"
      },
      "source": [
        "**Calculando as operações positivas.**"
      ]
    },
    {
      "cell_type": "code",
      "metadata": {
        "colab": {
          "base_uri": "https://localhost:8080/"
        },
        "id": "P35T1U1u1EyD",
        "outputId": "cb77fe3a-32ea-4e67-a141-251bc2398f2d"
      },
      "source": [
        "valor_trade_p = pd.array([0,5,10,15,20,25,30], dtype=int)\n",
        "quant_trade_p = pd.array([2,21,7,14,1,1,2], dtype=int)\n",
        "resultado_positivo = valor_trade_p * quant_trade_p \n",
        "res_positivo = resultado_positivo.sum()\n",
        "print(f'Valor total das operações com Lucro R$ {res_positivo:.2f}')"
      ],
      "execution_count": 22,
      "outputs": [
        {
          "output_type": "stream",
          "text": [
            "Valor total das operações com Lucro R$ 490.00\n"
          ],
          "name": "stdout"
        }
      ]
    },
    {
      "cell_type": "markdown",
      "metadata": {
        "id": "NKGVc34tIET3"
      },
      "source": [
        "**Visualização das \"operações com lucro\" através de um gráfico de barras.**"
      ]
    },
    {
      "cell_type": "code",
      "metadata": {
        "colab": {
          "base_uri": "https://localhost:8080/",
          "height": 265
        },
        "id": "-_PIIVdGGMwl",
        "outputId": "f9a5b0fb-84c1-4de3-f291-9153bf656f57"
      },
      "source": [
        "plt.bar(valor_trade_p,quant_trade_p, width=3, color='lightgreen')\n",
        "plt.show()"
      ],
      "execution_count": 23,
      "outputs": [
        {
          "output_type": "display_data",
          "data": {
            "image/png": "[encoded data removed]",
            "text/plain": [
              "<Figure size 432x288 with 1 Axes>"
            ]
          },
          "metadata": {
            "tags": [],
            "needs_background": "light"
          }
        }
      ]
    },
    {
      "cell_type": "markdown",
      "metadata": {
        "id": "fmEuRD92Cebs"
      },
      "source": [
        "**Calculando as operações negativas.**"
      ]
    },
    {
      "cell_type": "code",
      "metadata": {
        "colab": {
          "base_uri": "https://localhost:8080/"
        },
        "id": "AiiLPcJO_GPU",
        "outputId": "9370f948-6489-4cfa-e9ba-0e4d16c8f441"
      },
      "source": [
        "valor_trade_n = pd.array([-195,-135,-125,-90,-50,-30,-20,-15,-10,-5], dtype=int)\n",
        "quant_trade_n = pd.array([1,1,1,1,1,1,4,2,4,3], dtype=int)\n",
        "resultado_negativo = valor_trade_n * quant_trade_n\n",
        "res_negativo = resultado_negativo.sum()\n",
        "print(f'Valor total das operações com prejuízo R$ {res_negativo:.2f}')"
      ],
      "execution_count": 24,
      "outputs": [
        {
          "output_type": "stream",
          "text": [
            "Valor total das operações com prejuízo R$ -790.00\n"
          ],
          "name": "stdout"
        }
      ]
    },
    {
      "cell_type": "markdown",
      "metadata": {
        "id": "DPxwvjHYIiJm"
      },
      "source": [
        "**Visualização das \"operações com prejuízo\" através de um gráfico de barras.**"
      ]
    },
    {
      "cell_type": "code",
      "metadata": {
        "colab": {
          "base_uri": "https://localhost:8080/",
          "height": 265
        },
        "id": "b977t7NxFSdW",
        "outputId": "1ec430af-1cc0-497c-fdbf-3bd5bd96847d"
      },
      "source": [
        "plt.bar(valor_trade_n,quant_trade_n, width=3, color='red')\n",
        "plt.show()"
      ],
      "execution_count": 25,
      "outputs": [
        {
          "output_type": "display_data",
          "data": {
            "image/png": "[encoded data removed]",
            "text/plain": [
              "<Figure size 432x288 with 1 Axes>"
            ]
          },
          "metadata": {
            "tags": [],
            "needs_background": "light"
          }
        }
      ]
    },
    {
      "cell_type": "markdown",
      "metadata": {
        "id": "BNny3ekUSb-T"
      },
      "source": [
        "**Conclusão:**\n",
        "\n",
        "\n",
        "1.   Nas operações a minha percpeção estava com viés de Compra, por isso atuei mais na compra do que na Venda.\n",
        "\n",
        "2.   O horário onde aprareceram mais oportunidades foi das 9:00 \n",
        "á 12:00.\n",
        "\n",
        "1.   As melhores operações foram com o tempo posicionado abaixo dos 20 segundos.\n",
        "\n",
        "2.   As piores operações foram com tempo superior a 120 segundos, quando tentei segurar a posição quando deveria realizar o prejuízo mais cedo. O que obviamente comprometeu a performance dentro do mês.\n",
        "\n",
        "\n",
        "\n"
      ]
    }
  ]
}